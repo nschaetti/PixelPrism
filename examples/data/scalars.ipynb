{
 "cells": [
  {
   "metadata": {},
   "cell_type": "markdown",
   "source": [
    "## Scalar and TScalar\n",
    "\n",
    "In **PixelPrism**, we distinguish between two types of scalars:\n",
    "\n",
    "- **`Scalar`** — a simple wrapper around a number (`float` or `int`)\n",
    "- **`TScalar`** — a symbolic or differentiable scalar used for dynamic or lazy evaluation\n",
    "\n",
    "They are used throughout the library to allow both immediate values and computed expressions that react to changes — especially useful in animations or parameterized objects.\n",
    "\n",
    "### Creating a Scalar\n",
    "\n",
    "You can create a `Scalar` directly from a number:"
   ],
   "id": "2fc518f0fac88944"
  },
  {
   "metadata": {
    "ExecuteTime": {
     "end_time": "2025-06-14T14:26:56.002916Z",
     "start_time": "2025-06-14T14:26:56.000653Z"
    }
   },
   "cell_type": "code",
   "source": [
    "from pixel_prism.data import Scalar\n",
    "\n",
    "s = Scalar(3.14)\n",
    "s"
   ],
   "id": "80a95f75a7dbd6fe",
   "outputs": [
    {
     "data": {
      "text/plain": [
       "Scalar(value=3.14)"
      ]
     },
     "execution_count": 18,
     "metadata": {},
     "output_type": "execute_result"
    }
   ],
   "execution_count": 18
  },
  {
   "metadata": {},
   "cell_type": "markdown",
   "source": "You can also pass an optional `on_change` callback or make the scalar `readonly`:",
   "id": "86c25654d27772f1"
  },
  {
   "metadata": {
    "ExecuteTime": {
     "end_time": "2025-06-14T14:33:05.440001Z",
     "start_time": "2025-06-14T14:33:05.437479Z"
    }
   },
   "cell_type": "code",
   "source": [
    "def my_callback(obj, event_type, value):\n",
    "    print(f\"Value changed to {value}\")\n",
    "# end my_callback\n",
    "\n",
    "# Create a Scalar with a callback\n",
    "s = Scalar(5, on_change=my_callback)\n",
    "\n",
    "# Change the value\n",
    "s.set(2)"
   ],
   "id": "fbfde5fee3c5aaa6",
   "outputs": [
    {
     "name": "stdout",
     "output_type": "stream",
     "text": [
      "Value changed to 2\n"
     ]
    }
   ],
   "execution_count": 28
  },
  {
   "metadata": {},
   "cell_type": "markdown",
   "source": [
    "If you pass another `Scalar` as the value, its internal value will be extracted automatically.\n",
    "\n",
    "### Creating a TScalar\n",
    "\n",
    "A `TScalar` is defined by a function and the `Scalar` objects it depends on."
   ],
   "id": "3982c87b7d60e248"
  },
  {
   "metadata": {
    "ExecuteTime": {
     "end_time": "2025-06-14T14:39:17.226870Z",
     "start_time": "2025-06-14T14:39:17.225089Z"
    }
   },
   "cell_type": "code",
   "source": [
    "from pixel_prism.data import TScalar, Scalar\n",
    "\n",
    "a = Scalar(5)\n",
    "b = Scalar(2)\n",
    "\n",
    "t = TScalar(lambda s1, s2: s1.value + s2.value, s1=a, s2=b)"
   ],
   "id": "3934c4ff94e79c29",
   "outputs": [],
   "execution_count": 32
  },
  {
   "metadata": {},
   "cell_type": "markdown",
   "source": "This creates a `TScalar` representing `a + b`, which will update automatically when either `a` or `b` changes.",
   "id": "e23f25f6eecaf085"
  },
  {
   "metadata": {
    "ExecuteTime": {
     "end_time": "2025-06-14T14:41:02.665385Z",
     "start_time": "2025-06-14T14:41:02.662445Z"
    }
   },
   "cell_type": "code",
   "source": [
    "print(f\"t: {t}\")\n",
    "a.set(10)\n",
    "print(f\"t after a update: {t}\")"
   ],
   "id": "3187d3bfe1412e75",
   "outputs": [
    {
     "name": "stdout",
     "output_type": "stream",
     "text": [
      "t: 7\n",
      "t after a update: 12\n"
     ]
    }
   ],
   "execution_count": 34
  },
  {
   "metadata": {
    "ExecuteTime": {
     "end_time": "2025-06-14T13:59:41.670409Z",
     "start_time": "2025-06-14T13:59:41.666555Z"
    }
   },
   "cell_type": "code",
   "source": "scalar",
   "id": "e30866081cd0888d",
   "outputs": [
    {
     "data": {
      "text/plain": [
       "Scalar(value=5)"
      ]
     },
     "execution_count": 4,
     "metadata": {},
     "output_type": "execute_result"
    }
   ],
   "execution_count": 4
  },
  {
   "metadata": {
    "ExecuteTime": {
     "end_time": "2025-06-14T14:06:01.281548Z",
     "start_time": "2025-06-14T14:06:01.279050Z"
    }
   },
   "cell_type": "code",
   "source": [
    "print(scalar)\n",
    "print(scalar.__class__.__name__)"
   ],
   "id": "63a8f10902a27b68",
   "outputs": [
    {
     "name": "stdout",
     "output_type": "stream",
     "text": [
      "5\n",
      "Scalar\n"
     ]
    }
   ],
   "execution_count": 13
  },
  {
   "metadata": {
    "ExecuteTime": {
     "end_time": "2025-06-14T14:00:21.021004Z",
     "start_time": "2025-06-14T14:00:21.019146Z"
    }
   },
   "cell_type": "code",
   "source": "test = scalar + 5",
   "id": "fd3508c7d6a31db5",
   "outputs": [],
   "execution_count": 6
  },
  {
   "metadata": {
    "ExecuteTime": {
     "end_time": "2025-06-14T14:00:22.437768Z",
     "start_time": "2025-06-14T14:00:22.435405Z"
    }
   },
   "cell_type": "code",
   "source": "test",
   "id": "eb7373f6765a6395",
   "outputs": [
    {
     "data": {
      "text/plain": [
       "Scalar(value=10)"
      ]
     },
     "execution_count": 7,
     "metadata": {},
     "output_type": "execute_result"
    }
   ],
   "execution_count": 7
  },
  {
   "metadata": {
    "ExecuteTime": {
     "end_time": "2025-06-14T14:07:05.306999Z",
     "start_time": "2025-06-14T14:07:05.304326Z"
    }
   },
   "cell_type": "code",
   "source": [
    "print(test)\n",
    "print(test.__class__.__name__)"
   ],
   "id": "860e8af3fead1eeb",
   "outputs": [
    {
     "name": "stdout",
     "output_type": "stream",
     "text": [
      "10\n",
      "Scalar\n"
     ]
    }
   ],
   "execution_count": 15
  },
  {
   "metadata": {
    "ExecuteTime": {
     "end_time": "2025-06-14T14:03:52.699856Z",
     "start_time": "2025-06-14T14:03:52.697419Z"
    }
   },
   "cell_type": "code",
   "source": "id(scalar)",
   "id": "a859833c19c9e253",
   "outputs": [
    {
     "data": {
      "text/plain": [
       "134312705981232"
      ]
     },
     "execution_count": 9,
     "metadata": {},
     "output_type": "execute_result"
    }
   ],
   "execution_count": 9
  },
  {
   "metadata": {
    "ExecuteTime": {
     "end_time": "2025-06-14T14:03:56.514228Z",
     "start_time": "2025-06-14T14:03:56.511405Z"
    }
   },
   "cell_type": "code",
   "source": "id(test)",
   "id": "e3df303939d6cc60",
   "outputs": [
    {
     "data": {
      "text/plain": [
       "134313453196144"
      ]
     },
     "execution_count": 10,
     "metadata": {},
     "output_type": "execute_result"
    }
   ],
   "execution_count": 10
  },
  {
   "metadata": {},
   "cell_type": "code",
   "outputs": [],
   "execution_count": null,
   "source": "",
   "id": "77cd117047d6745"
  }
 ],
 "metadata": {
  "kernelspec": {
   "display_name": "Python 3",
   "language": "python",
   "name": "python3"
  },
  "language_info": {
   "codemirror_mode": {
    "name": "ipython",
    "version": 2
   },
   "file_extension": ".py",
   "mimetype": "text/x-python",
   "name": "python",
   "nbconvert_exporter": "python",
   "pygments_lexer": "ipython2",
   "version": "2.7.6"
  }
 },
 "nbformat": 4,
 "nbformat_minor": 5
}
